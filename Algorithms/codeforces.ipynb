{
 "cells": [
  {
   "cell_type": "code",
   "execution_count": null,
   "metadata": {},
   "outputs": [],
   "source": [
    "# Арбуз 4A\n",
    "# https://codeforces.com/problemset/problem/4/A \n",
    "w = int(input())\n",
    "if w % 2 == 0 and w > 2: # можете тут объяснить плес \n",
    "    print(\"yes\")\n",
    "else:\n",
    "    print(\"no\")\n",
    "\n",
    "# solve 1\n",
    "#print 2**<>%24>8?YES:NO #объясни как это работает\n",
    "\n",
    "#solve 2\n",
    "#w = int(input());print(\"YES\" if (w % 2 == 0 and w > 2)  else'NO')\n",
    "\n",
    "#solve 3 \n",
    "# w=int(input())\n",
    "# if w==2:\n",
    "#   print(\"NO\")\n",
    "# elif w%2==0:\n",
    "#   print(\"YES\")\n",
    "# else:\n",
    "#   print(\"NO\") \n",
    "\n",
    "\n",
    "#   #solve 4\n",
    "#   z = int(input()) \n",
    "# if z % 2 == 0 and z > 2:\n",
    "#     print(\"YES\")\n",
    "# else:\n",
    "#     print(\"NO\")\n"
   ]
  },
  {
   "cell_type": "code",
   "execution_count": null,
   "metadata": {},
   "outputs": [],
   "source": [
    "\n",
    "\n"
   ]
  },
  {
   "cell_type": "code",
   "execution_count": null,
   "metadata": {},
   "outputs": [],
   "source": []
  }
 ],
 "metadata": {
  "language_info": {
   "name": "python"
  }
 },
 "nbformat": 4,
 "nbformat_minor": 2
}
