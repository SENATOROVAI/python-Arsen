{
 "cells": [
  {
   "cell_type": "code",
   "execution_count": null,
   "metadata": {},
   "outputs": [],
   "source": [
    "#link to the task https://codeforces.com/contest/1931/problem/A \n",
    "for n in[*map(int,open(0))][1:]:\n",
    " r=''\n",
    " for i in(2,1,0):m=min(n-i,26);r=chr(96+m)+r;n-=m\n",
    " print(r)\n"
   ]
  },
  {
   "cell_type": "code",
   "execution_count": null,
   "metadata": {},
   "outputs": [],
   "source": [
    "for i in range(int(input())):\n",
    "    n=int(input())\n",
    "    if n<=28:\n",
    "        print(\"aa\"+chr(n+94))\n",
    "    elif 28<n<=53:\n",
    "        print(\"a\"+chr(n+69)+\"z\")\n",
    "    else:\n",
    "        print(chr(n+44)+\"z\"+\"z\")"
   ]
  },
  {
   "cell_type": "code",
   "execution_count": null,
   "metadata": {},
   "outputs": [],
   "source": [
    "a=int(input())\n",
    "for _ in range(a):\n",
    "    b=int(input())\n",
    "    s=ord('a')-1\n",
    "    c=min(b-2,26)\n",
    "    d=b-c\n",
    "    f=min(d-1,26)\n",
    "    r=d-f\n",
    "    print(chr(r+s)+chr(f+s)+chr(c+s))"
   ]
  }
 ],
 "metadata": {
  "language_info": {
   "name": "python"
  }
 },
 "nbformat": 4,
 "nbformat_minor": 2
}
