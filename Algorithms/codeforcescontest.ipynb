{
 "cells": [
  {
   "cell_type": "code",
   "execution_count": 1,
   "metadata": {},
   "outputs": [
    {
     "ename": "ValueError",
     "evalue": "IPython won't let you open fd=0 by default as it is likely to crash IPython. If you know what you are doing, you can use builtins' open.",
     "output_type": "error",
     "traceback": [
      "\u001b[1;31m---------------------------------------------------------------------------\u001b[0m",
      "\u001b[1;31mValueError\u001b[0m                                Traceback (most recent call last)",
      "Cell \u001b[1;32mIn[1], line 2\u001b[0m\n\u001b[0;32m      1\u001b[0m \u001b[38;5;66;03m#link to the task https://codeforces.com/contest/1931/problem/A \u001b[39;00m\n\u001b[1;32m----> 2\u001b[0m \u001b[38;5;28;01mfor\u001b[39;00m n \u001b[38;5;129;01min\u001b[39;00m[\u001b[38;5;241m*\u001b[39m\u001b[38;5;28mmap\u001b[39m(\u001b[38;5;28mint\u001b[39m,\u001b[38;5;28mopen\u001b[39m(\u001b[38;5;241m0\u001b[39m))][\u001b[38;5;241m1\u001b[39m:]:\n\u001b[0;32m      3\u001b[0m  r\u001b[38;5;241m=\u001b[39m\u001b[38;5;124m'\u001b[39m\u001b[38;5;124m'\u001b[39m\n\u001b[0;32m      4\u001b[0m  \u001b[38;5;28;01mfor\u001b[39;00m i \u001b[38;5;129;01min\u001b[39;00m(\u001b[38;5;241m2\u001b[39m,\u001b[38;5;241m1\u001b[39m,\u001b[38;5;241m0\u001b[39m):m\u001b[38;5;241m=\u001b[39m\u001b[38;5;28mmin\u001b[39m(n\u001b[38;5;241m-\u001b[39mi,\u001b[38;5;241m26\u001b[39m);r\u001b[38;5;241m=\u001b[39m\u001b[38;5;28mchr\u001b[39m(\u001b[38;5;241m96\u001b[39m\u001b[38;5;241m+\u001b[39mm)\u001b[38;5;241m+\u001b[39mr;n\u001b[38;5;241m-\u001b[39m\u001b[38;5;241m=\u001b[39mm\n",
      "File \u001b[1;32mc:\\Users\\User\\anaconda3\\Lib\\site-packages\\IPython\\core\\interactiveshell.py:280\u001b[0m, in \u001b[0;36m_modified_open\u001b[1;34m(file, *args, **kwargs)\u001b[0m\n\u001b[0;32m    277\u001b[0m \u001b[38;5;129m@functools\u001b[39m\u001b[38;5;241m.\u001b[39mwraps(io_open)\n\u001b[0;32m    278\u001b[0m \u001b[38;5;28;01mdef\u001b[39;00m \u001b[38;5;21m_modified_open\u001b[39m(file, \u001b[38;5;241m*\u001b[39margs, \u001b[38;5;241m*\u001b[39m\u001b[38;5;241m*\u001b[39mkwargs):\n\u001b[0;32m    279\u001b[0m     \u001b[38;5;28;01mif\u001b[39;00m file \u001b[38;5;129;01min\u001b[39;00m {\u001b[38;5;241m0\u001b[39m, \u001b[38;5;241m1\u001b[39m, \u001b[38;5;241m2\u001b[39m}:\n\u001b[1;32m--> 280\u001b[0m         \u001b[38;5;28;01mraise\u001b[39;00m \u001b[38;5;167;01mValueError\u001b[39;00m(\n\u001b[0;32m    281\u001b[0m             \u001b[38;5;124mf\u001b[39m\u001b[38;5;124m\"\u001b[39m\u001b[38;5;124mIPython won\u001b[39m\u001b[38;5;124m'\u001b[39m\u001b[38;5;124mt let you open fd=\u001b[39m\u001b[38;5;132;01m{\u001b[39;00mfile\u001b[38;5;132;01m}\u001b[39;00m\u001b[38;5;124m by default \u001b[39m\u001b[38;5;124m\"\u001b[39m\n\u001b[0;32m    282\u001b[0m             \u001b[38;5;124m\"\u001b[39m\u001b[38;5;124mas it is likely to crash IPython. If you know what you are doing, \u001b[39m\u001b[38;5;124m\"\u001b[39m\n\u001b[0;32m    283\u001b[0m             \u001b[38;5;124m\"\u001b[39m\u001b[38;5;124myou can use builtins\u001b[39m\u001b[38;5;124m'\u001b[39m\u001b[38;5;124m open.\u001b[39m\u001b[38;5;124m\"\u001b[39m\n\u001b[0;32m    284\u001b[0m         )\n\u001b[0;32m    286\u001b[0m     \u001b[38;5;28;01mreturn\u001b[39;00m io_open(file, \u001b[38;5;241m*\u001b[39margs, \u001b[38;5;241m*\u001b[39m\u001b[38;5;241m*\u001b[39mkwargs)\n",
      "\u001b[1;31mValueError\u001b[0m: IPython won't let you open fd=0 by default as it is likely to crash IPython. If you know what you are doing, you can use builtins' open."
     ]
    }
   ],
   "source": [
    "#link to the task https://codeforces.com/contest/1931/problem/A \n",
    "for n in[*map(int,open(0))][1:]:\n",
    " r=''\n",
    " for i in(2,1,0):m=min(n-i,26);r=chr(96+m)+r;n-=m\n",
    " print(r)\n"
   ]
  },
  {
   "cell_type": "markdown",
   "metadata": {},
   "source": [
    "Данный код написан на Python и предназначен для преобразования чисел в строки, используя алфавитные символы.\n",
    "\n",
    "1. `for n in [*map(int, open(0))][1:]:` - Этот цикл проходит по всем числам, считанным из стандартного ввода (`open(0)`). `map(int, ...)` преобразует каждую строку ввода в целое число. `[*map(int, open(0))]` создает список из этих чисел. `[1:]` отсекает первый элемент списка, который обычно является количеством чисел, которые будут считаны.\n",
    "\n",
    "2. `r = ''` - Эта строка инициализирует пустую строку `r`, которая будет использоваться для хранения результата преобразования.\n",
    "\n",
    "3. `for i in (2, 1, 0):` - Этот цикл проходит по числам 2, 1, 0.\n",
    "\n",
    "4. `m = min(n - i, 26)` - Эта строка вычисляет минимальное значение между `n - i` и 26. `n - i` это разница между исходным числом и текущим числом из цикла. 26 - это количество букв в английском алфавите.\n",
    "\n",
    "5. `r = chr(96 + m) + r` - Эта строка преобразует число `m` в соответствующий символ в английском алфавите (сдвиг на 96, так как в ASCII таблице символ 'a' имеет код 97) и добавляет его в начало строки `r`.\n",
    "\n",
    "6. `n -= m` - Эта строка уменьшает исходное число `n` на значение `m`.\n",
    "\n",
    "7. `print(r)` - Эта строка выводит результат преобразования для каждого числа.\n",
    "\n",
    "В целом, код читает числа из стандартного ввода, преобразует каждое число в строку, используя алфавитные символы, и выводит результат."
   ]
  },
  {
   "cell_type": "code",
   "execution_count": null,
   "metadata": {},
   "outputs": [],
   "source": []
  },
  {
   "cell_type": "code",
   "execution_count": null,
   "metadata": {},
   "outputs": [],
   "source": [
    "for i in range(int(input())):\n",
    "    n=int(input())\n",
    "    if n<=28:\n",
    "        print(\"aa\"+chr(n+94))\n",
    "    elif 28<n<=53:\n",
    "        print(\"a\"+chr(n+69)+\"z\")\n",
    "    else:\n",
    "        print(chr(n+44)+\"z\"+\"z\")"
   ]
  },
  {
   "cell_type": "code",
   "execution_count": null,
   "metadata": {},
   "outputs": [],
   "source": [
    "a=int(input())\n",
    "for _ in range(a):\n",
    "    b=int(input())\n",
    "    s=ord('a')-1\n",
    "    c=min(b-2,26)\n",
    "    d=b-c\n",
    "    f=min(d-1,26)\n",
    "    r=d-f\n",
    "    print(chr(r+s)+chr(f+s)+chr(c+s))"
   ]
  }
 ],
 "metadata": {
  "kernelspec": {
   "display_name": "base",
   "language": "python",
   "name": "python3"
  },
  "language_info": {
   "codemirror_mode": {
    "name": "ipython",
    "version": 3
   },
   "file_extension": ".py",
   "mimetype": "text/x-python",
   "name": "python",
   "nbconvert_exporter": "python",
   "pygments_lexer": "ipython3",
   "version": "3.11.5"
  }
 },
 "nbformat": 4,
 "nbformat_minor": 2
}
