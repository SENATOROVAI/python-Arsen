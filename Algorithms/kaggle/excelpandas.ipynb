{
 "cells": [
  {
   "cell_type": "markdown",
   "metadata": {},
   "source": [
    "cause anaconda - это дистрибутив в котором есть менеджеро пакетов conda, тем самым в конде всё есть для дата сайнс(пакеты,модуgи, библиотеки)\n",
    "pip - менеджер пакетов для пайтона \n"
   ]
  },
  {
   "cell_type": "code",
   "execution_count": 4,
   "metadata": {},
   "outputs": [
    {
     "ename": "SyntaxError",
     "evalue": "invalid syntax (1347450395.py, line 1)",
     "output_type": "error",
     "traceback": [
      "\u001b[1;36m  Cell \u001b[1;32mIn[4], line 1\u001b[1;36m\u001b[0m\n\u001b[1;33m    import pandas as pd=\u001b[0m\n\u001b[1;37m                       ^\u001b[0m\n\u001b[1;31mSyntaxError\u001b[0m\u001b[1;31m:\u001b[0m invalid syntax\n"
     ]
    }
   ],
   "source": [
    "import pandas as pd"
   ]
  },
  {
   "cell_type": "code",
   "execution_count": 20,
   "metadata": {},
   "outputs": [
    {
     "name": "stdout",
     "output_type": "stream",
     "text": [
      "\u001b[1;31mSignature:\u001b[0m \u001b[0mdf\u001b[0m\u001b[1;33m.\u001b[0m\u001b[0mhead\u001b[0m\u001b[1;33m(\u001b[0m\u001b[0mn\u001b[0m\u001b[1;33m:\u001b[0m \u001b[1;34m'int'\u001b[0m \u001b[1;33m=\u001b[0m \u001b[1;36m5\u001b[0m\u001b[1;33m)\u001b[0m \u001b[1;33m->\u001b[0m \u001b[1;34m'NDFrameT'\u001b[0m\u001b[1;33m\u001b[0m\u001b[1;33m\u001b[0m\u001b[0m\n",
      "\u001b[1;31mDocstring:\u001b[0m\n",
      "Return the first `n` rows.\n",
      "\n",
      "This function returns the first `n` rows for the object based\n",
      "on position. It is useful for quickly testing if your object\n",
      "has the right type of data in it.\n",
      "\n",
      "For negative values of `n`, this function returns all rows except\n",
      "the last `|n|` rows, equivalent to ``df[:n]``.\n",
      "\n",
      "If n is larger than the number of rows, this function returns all rows.\n",
      "\n",
      "Parameters\n",
      "----------\n",
      "n : int, default 5\n",
      "    Number of rows to select.\n",
      "\n",
      "Returns\n",
      "-------\n",
      "same type as caller\n",
      "    The first `n` rows of the caller object.\n",
      "\n",
      "See Also\n",
      "--------\n",
      "DataFrame.tail: Returns the last `n` rows.\n",
      "\n",
      "Examples\n",
      "--------\n",
      ">>> df = pd.DataFrame({'animal': ['alligator', 'bee', 'falcon', 'lion',\n",
      "...                    'monkey', 'parrot', 'shark', 'whale', 'zebra']})\n",
      ">>> df\n",
      "      animal\n",
      "0  alligator\n",
      "1        bee\n",
      "2     falcon\n",
      "3       lion\n",
      "4     monkey\n",
      "5     parrot\n",
      "6      shark\n",
      "7      whale\n",
      "8      zebra\n",
      "\n",
      "Viewing the first 5 lines\n",
      "\n",
      ">>> df.head()\n",
      "      animal\n",
      "0  alligator\n",
      "1        bee\n",
      "2     falcon\n",
      "3       lion\n",
      "4     monkey\n",
      "\n",
      "Viewing the first `n` lines (three in this case)\n",
      "\n",
      ">>> df.head(3)\n",
      "      animal\n",
      "0  alligator\n",
      "1        bee\n",
      "2     falcon\n",
      "\n",
      "For negative values of `n`\n",
      "\n",
      ">>> df.head(-3)\n",
      "      animal\n",
      "0  alligator\n",
      "1        bee\n",
      "2     falcon\n",
      "3       lion\n",
      "4     monkey\n",
      "5     parrot\n",
      "\u001b[1;31mFile:\u001b[0m      c:\\users\\user\\anaconda3\\lib\\site-packages\\pandas\\core\\generic.py\n",
      "\u001b[1;31mType:\u001b[0m      method"
     ]
    }
   ],
   "source": [
    "df = pd.read_csv(\"../kaggle/data/train.csv\")\n",
    " \n",
    "df.head? # сигнатура или описание через знак вопроса "
   ]
  },
  {
   "cell_type": "code",
   "execution_count": 22,
   "metadata": {},
   "outputs": [],
   "source": [
    "# help(df.head)"
   ]
  },
  {
   "cell_type": "code",
   "execution_count": 5,
   "metadata": {},
   "outputs": [
    {
     "data": {
      "text/plain": [
       "'c:/user/file.csv'"
      ]
     },
     "execution_count": 5,
     "metadata": {},
     "output_type": "execute_result"
    }
   ],
   "source": [
    "def read_csv_(file_path: str) -> str:\n",
    "    \"\"\"read сsv\"\"\"\n",
    "\n",
    "    return file_path\n",
    "\n",
    "\n",
    "read_csv_(\"c:/user/file.csv\")  # __call__() equal"
   ]
  },
  {
   "cell_type": "code",
   "execution_count": 1,
   "metadata": {},
   "outputs": [],
   "source": [
    "from typing import List\n",
    "\n",
    "\n",
    "class dataframe:  # класс контейнер для функций\n",
    "    \"\"\"\n",
    "    Функции в классе называются методами\n",
    "    переменные в классе называются атрибутами\n",
    "    любой класс состоит из атрибутов и методов\n",
    "    \"\"\"\n",
    "\n",
    "    def head(list_: List, n: int = 5) -> List:\n",
    "        return list_[:n]\n",
    "\n",
    "\n",
    "# dataframe.head([*range(10)], 7)\n",
    "# obj = dataframe() # создание объекта\n",
    "# obj.head(list)"
   ]
  },
  {
   "cell_type": "code",
   "execution_count": null,
   "metadata": {},
   "outputs": [],
   "source": []
  }
 ],
 "metadata": {
  "kernelspec": {
   "display_name": "base",
   "language": "python",
   "name": "python3"
  },
  "language_info": {
   "codemirror_mode": {
    "name": "ipython",
    "version": 3
   },
   "file_extension": ".py",
   "mimetype": "text/x-python",
   "name": "python",
   "nbconvert_exporter": "python",
   "pygments_lexer": "ipython3",
   "version": "3.11.5"
  }
 },
 "nbformat": 4,
 "nbformat_minor": 2
}
