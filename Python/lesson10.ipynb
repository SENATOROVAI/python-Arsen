{
 "cells": [
  {
   "cell_type": "code",
   "execution_count": 4,
   "metadata": {},
   "outputs": [
    {
     "ename": "AssertionError",
     "evalue": "",
     "output_type": "error",
     "traceback": [
      "\u001b[1;31m---------------------------------------------------------------------------\u001b[0m",
      "\u001b[1;31mAssertionError\u001b[0m                            Traceback (most recent call last)",
      "Cell \u001b[1;32mIn[4], line 2\u001b[0m\n\u001b[0;32m      1\u001b[0m nevajno: \u001b[38;5;28mint\u001b[39m \u001b[38;5;241m=\u001b[39m \u001b[38;5;241m5\u001b[39m\n\u001b[1;32m----> 2\u001b[0m \u001b[38;5;28;01massert\u001b[39;00m nevajno \u001b[38;5;241m==\u001b[39m \u001b[38;5;241m6\u001b[39m\n",
      "\u001b[1;31mAssertionError\u001b[0m: "
     ]
    }
   ],
   "source": [
    "nevajno: int = 5\n",
    "assert nevajno == 6\n",
    "\n",
    "\n",
    "# def my_function(x: int) -> int:\n",
    "#     \"\"\"\n",
    "#     Описание функции\n",
    "#     \"\"\"\n",
    "#     return x**2\n",
    "\n",
    "\n",
    "# def test_my_function():\n",
    "#     assert my_function(5) == 25\n",
    "#     assert my_function(2) == 4\n",
    "#     assert my_function(-3) == 9\n",
    "\n",
    "\n",
    "# test_my_function()\n",
    "\n",
    "# print(\n",
    "#     type(my_function(5))\n",
    "# )  #  <function my_function at 0x000002101EBE04A0>  0x000002101EBE04A0 - id объекта / область памяти компьютера\n",
    "\n",
    "\n",
    "# # try:\n",
    "# #     my_function(\"awdawd\")\n",
    "# # except Exception:\n",
    "# #     print(\"Error\")\n",
    "# # finally:\n",
    "# #     print(\"run anyway\")\n",
    "# #\n",
    "\n",
    "# # try:\n",
    "# #     db_connect = sql.conn  # поднят поток\n",
    "# # except:\n",
    "# #     print(\"connect error\")\n",
    "# # finally:  # finally ВСегда в конце отрабатывает\n",
    "# #     db_connect.close()\n",
    "\n",
    "\n",
    "# def function(x: int) -> int:\n",
    "#     if x < 0:\n",
    "#         raise ValueError(\"Nolik must be negative\")\n",
    "#     return x\n",
    "# print(function(-9))\n",
    "    "
   ]
  }
 ],
 "metadata": {
  "kernelspec": {
   "display_name": "base",
   "language": "python",
   "name": "python3"
  },
  "language_info": {
   "codemirror_mode": {
    "name": "ipython",
    "version": 3
   },
   "file_extension": ".py",
   "mimetype": "text/x-python",
   "name": "python",
   "nbconvert_exporter": "python",
   "pygments_lexer": "ipython3",
   "version": "3.11.5"
  }
 },
 "nbformat": 4,
 "nbformat_minor": 2
}
