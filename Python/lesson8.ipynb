{
 "cells": [
  {
   "cell_type": "code",
   "execution_count": 5,
   "metadata": {},
   "outputs": [],
   "source": [
    "def chislo_plus_one(x: int) -> int:  # snake_case нотация именований переменных\n",
    "    \"\"\"\n",
    "    функция будет принимать число и она будет прибавлять к числу плюс один\n",
    "    \"\"\"\n",
    "    return (\n",
    "        x + 1\n",
    "    )  # return - это оператор/keyword который возращает команду назад. ему НЕ НУЖНЫ КРУГЛЫЕ СКОБКИ"
   ]
  },
  {
   "cell_type": "code",
   "execution_count": null,
   "metadata": {},
   "outputs": [],
   "source": [
    "def chislo_plus_one(x: int) -> int:\n",
    "    return x + 1"
   ]
  }
 ],
 "metadata": {
  "kernelspec": {
   "display_name": "base",
   "language": "python",
   "name": "python3"
  },
  "language_info": {
   "codemirror_mode": {
    "name": "ipython",
    "version": 3
   },
   "file_extension": ".py",
   "mimetype": "text/x-python",
   "name": "python",
   "nbconvert_exporter": "python",
   "pygments_lexer": "ipython3",
   "version": "3.11.5"
  }
 },
 "nbformat": 4,
 "nbformat_minor": 2
}
