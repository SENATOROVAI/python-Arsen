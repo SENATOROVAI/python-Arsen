{
 "cells": [
  {
   "cell_type": "code",
   "execution_count": null,
   "metadata": {},
   "outputs": [],
   "source": [
    "# 0. Алгоритм как спрашивать у людей\n",
    "# 1. https://codeforces.com/problemset?order=BY_RATING_ASC&tags=math - эти задачи\n",
    "# 2. Смотреть решения (как минимум 3) первое в самом начале, второе где то на среднем, и последнее на последних\n",
    "# 3. Решение копируешь в файл codeforces и ссылку на задачу\n",
    "# 4. потом пишешь псевдокод\n",
    "# 5. если что-то не понятно, надо спросить как людей\n",
    "# 6."
   ]
  },
  {
   "cell_type": "code",
   "execution_count": null,
   "metadata": {},
   "outputs": [],
   "source": [
    "# Операторы python\n",
    "\n",
    "# типа операторов: +,-,/,*,**,//,%\n",
    "\n",
    "# 1+1 - это бинарный оператор, слева и справа это операнды а плюсик это тип операции.\n",
    "\n",
    "# 1 - операнд\n",
    "# + - бинарный оператор (бинарному оператору нужно 2 операнда)\n",
    "\n",
    "# ты"
   ]
  },
  {
   "cell_type": "code",
   "execution_count": 3,
   "metadata": {},
   "outputs": [],
   "source": [
    "x: int = 1"
   ]
  },
  {
   "cell_type": "code",
   "execution_count": null,
   "metadata": {},
   "outputs": [],
   "source": [
    "type(\n",
    "    x\n",
    ")  # зелый цвет + () => создание и вызов объекта, так же при просмотре объекта (ctrl+click) слева ключевое слово class значит мы создаем объект\n",
    "print(\n",
    "    x\n",
    "    # желтый цвет + () => вызов функции, слева ключевое слово def значит это создание функции.\n",
    ")"
   ]
  },
  {
   "cell_type": "code",
   "execution_count": 20,
   "metadata": {},
   "outputs": [
    {
     "name": "stdout",
     "output_type": "stream",
     "text": [
      "1\n"
     ]
    }
   ],
   "source": [
    "# файл builtins.pyi это системная область видимости.\n",
    "# глобальная область видимости всего файла\n",
    "# enclose или  ближайшая область видиомсти\n",
    "# локальная область видимости.\n",
    "\n",
    "# def main():\n",
    "#     # enlose\n",
    "#     x = 1\n",
    "#     def inner():\n",
    "#     #    nonlocal x\n",
    "#        print(x) # локальная область видимости.\n",
    "#     return inner\n",
    "# main().__call__()"
   ]
  },
  {
   "cell_type": "code",
   "execution_count": 21,
   "metadata": {},
   "outputs": [
    {
     "data": {
      "text/plain": [
       "2"
      ]
     },
     "execution_count": 21,
     "metadata": {},
     "output_type": "execute_result"
    }
   ],
   "source": [
    "(\n",
    "    True + True\n",
    ")  # операция  type casting когда мы производим какие то математические операции, и тут 0 это false и 1 это true"
   ]
  },
  {
   "cell_type": "code",
   "execution_count": 22,
   "metadata": {},
   "outputs": [
    {
     "data": {
      "text/plain": [
       "True"
      ]
     },
     "execution_count": 22,
     "metadata": {},
     "output_type": "execute_result"
    }
   ],
   "source": [
    "False == 0  # return bool => True / False"
   ]
  },
  {
   "cell_type": "code",
   "execution_count": 26,
   "metadata": {},
   "outputs": [
    {
     "data": {
      "text/plain": [
       "False"
      ]
     },
     "execution_count": 26,
     "metadata": {},
     "output_type": "execute_result"
    }
   ],
   "source": [
    "# False != 0  # !== check data type + value\n",
    "\n",
    "1 == \"1\"  # Пайтон юзает статическую слабой типизации"
   ]
  },
  {
   "cell_type": "markdown",
   "metadata": {},
   "source": [
    "# логические операторы\n",
    "### and - и это Конъюкция логическое умножение \n",
    "### or - или,  дизъюнкция логическое сложение \n",
    "### not  - это инверсия Отрицание логическое НЕ \n",
    "\n",
    "Интерпретатор если найдет в первом операнде true то он дальше не пойдет. "
   ]
  },
  {
   "cell_type": "code",
   "execution_count": null,
   "metadata": {},
   "outputs": [],
   "source": [
    "1 == \"1\" or 2 > 1  # False + True -> 0 + 1 = 1\n",
    "\n",
    "# False or True # or это или"
   ]
  },
  {
   "cell_type": "code",
   "execution_count": 28,
   "metadata": {},
   "outputs": [
    {
     "data": {
      "text/plain": [
       "True"
      ]
     },
     "execution_count": 28,
     "metadata": {},
     "output_type": "execute_result"
    }
   ],
   "source": [
    "2 > 3 or 1 < 2  # False or True -> 0 + 1 = 1,\n",
    "2 == 2 or 3 == 3"
   ]
  },
  {
   "cell_type": "code",
   "execution_count": 27,
   "metadata": {},
   "outputs": [
    {
     "data": {
      "text/plain": [
       "False"
      ]
     },
     "execution_count": 27,
     "metadata": {},
     "output_type": "execute_result"
    }
   ],
   "source": [
    "2 > 3 and 1 < 2  # False and True -> 0 * 1 = 0"
   ]
  },
  {
   "cell_type": "code",
   "execution_count": 30,
   "metadata": {},
   "outputs": [
    {
     "data": {
      "text/plain": [
       "(False, True)"
      ]
     },
     "execution_count": 30,
     "metadata": {},
     "output_type": "execute_result"
    }
   ],
   "source": [
    "not True, not False"
   ]
  },
  {
   "cell_type": "code",
   "execution_count": 34,
   "metadata": {},
   "outputs": [
    {
     "data": {
      "text/plain": [
       "True"
      ]
     },
     "execution_count": 34,
     "metadata": {},
     "output_type": "execute_result"
    }
   ],
   "source": [
    "bool(-1)  # всё что кроме нуля и пустой строки это True"
   ]
  },
  {
   "cell_type": "code",
   "execution_count": 40,
   "metadata": {},
   "outputs": [
    {
     "data": {
      "text/plain": [
       "(2, 2.0)"
      ]
     },
     "execution_count": 40,
     "metadata": {},
     "output_type": "execute_result"
    }
   ],
   "source": [
    "4 >> 1, 4 / 2  # слева это побитовый сдвиг"
   ]
  },
  {
   "cell_type": "code",
   "execution_count": 45,
   "metadata": {},
   "outputs": [
    {
     "data": {
      "text/plain": [
       "'110'"
      ]
     },
     "execution_count": 45,
     "metadata": {},
     "output_type": "execute_result"
    }
   ],
   "source": [
    "bin(6)[2:]"
   ]
  },
  {
   "cell_type": "code",
   "execution_count": 51,
   "metadata": {},
   "outputs": [
    {
     "data": {
      "text/plain": [
       "4"
      ]
     },
     "execution_count": 51,
     "metadata": {},
     "output_type": "execute_result"
    }
   ],
   "source": [
    "5 & 4  # Битовая операция И, логическое умножение"
   ]
  },
  {
   "cell_type": "code",
   "execution_count": 50,
   "metadata": {},
   "outputs": [
    {
     "data": {
      "text/plain": [
       "('101', '100')"
      ]
     },
     "execution_count": 50,
     "metadata": {},
     "output_type": "execute_result"
    }
   ],
   "source": [
    "# bin(5)[2:] , bin(4)[2:]\n",
    "# 101\n",
    "# *\n",
    "# 100\n",
    "# 100"
   ]
  },
  {
   "cell_type": "code",
   "execution_count": 52,
   "metadata": {},
   "outputs": [
    {
     "data": {
      "text/plain": [
       "5"
      ]
     },
     "execution_count": 52,
     "metadata": {},
     "output_type": "execute_result"
    }
   ],
   "source": [
    "5 | 4  # или это сложение\n",
    "\n",
    "# 101\n",
    "# +\n",
    "# 100\n",
    "# 101 двоичная система счисления в десятичной будет 5"
   ]
  },
  {
   "cell_type": "code",
   "execution_count": 53,
   "metadata": {},
   "outputs": [
    {
     "data": {
      "text/plain": [
       "-6"
      ]
     },
     "execution_count": 53,
     "metadata": {},
     "output_type": "execute_result"
    }
   ],
   "source": [
    "~5  # тильда => f(x) = x*(-1) - 1\n",
    "# f(5) = 5*(-1) - 1"
   ]
  },
  {
   "cell_type": "code",
   "execution_count": 54,
   "metadata": {},
   "outputs": [
    {
     "data": {
      "text/plain": [
       "-6"
      ]
     },
     "execution_count": 54,
     "metadata": {},
     "output_type": "execute_result"
    }
   ],
   "source": [
    "5 * (-1) - 1"
   ]
  },
  {
   "cell_type": "code",
   "execution_count": 56,
   "metadata": {},
   "outputs": [
    {
     "data": {
      "text/plain": [
       "('0b101', '-0b110')"
      ]
     },
     "execution_count": 56,
     "metadata": {},
     "output_type": "execute_result"
    }
   ],
   "source": [
    "bin(5), bin(~5)\n",
    "# ('101', '-110')"
   ]
  },
  {
   "cell_type": "code",
   "execution_count": 57,
   "metadata": {},
   "outputs": [
    {
     "data": {
      "text/plain": [
       "1"
      ]
     },
     "execution_count": 57,
     "metadata": {},
     "output_type": "execute_result"
    }
   ],
   "source": [
    "5 ^ 4  # XOR, исключающее ИЛИ\n",
    "\n",
    "# 00 => 0\n",
    "# 01 => 1\n",
    "# 10 => 1\n",
    "# 11 => 0\n",
    "\n",
    "# 101\n",
    "# 100\n",
    "# 001"
   ]
  },
  {
   "cell_type": "code",
   "execution_count": 59,
   "metadata": {},
   "outputs": [
    {
     "data": {
      "text/plain": [
       "('0b101', '0b110')"
      ]
     },
     "execution_count": 59,
     "metadata": {},
     "output_type": "execute_result"
    }
   ],
   "source": [
    "bin(5), bin(6)"
   ]
  },
  {
   "cell_type": "code",
   "execution_count": 72,
   "metadata": {},
   "outputs": [
    {
     "data": {
      "text/plain": [
       "('0b10', '0b1010')"
      ]
     },
     "execution_count": 72,
     "metadata": {},
     "output_type": "execute_result"
    }
   ],
   "source": [
    "x = 5 >> 1  # 5 * 2\n",
    "x1 = 5 << 1  # 5 /2\n",
    "# побитовый сдвиг, а окей !\n",
    "bin(x), bin(x1)\n",
    "# я пошел по делам, было круто)"
   ]
  },
  {
   "cell_type": "code",
   "execution_count": 70,
   "metadata": {},
   "outputs": [
    {
     "data": {
      "text/plain": [
       "'0b1010'"
      ]
     },
     "execution_count": 70,
     "metadata": {},
     "output_type": "execute_result"
    }
   ],
   "source": []
  }
 ],
 "metadata": {
  "kernelspec": {
   "display_name": "Python 3",
   "language": "python",
   "name": "python3"
  },
  "language_info": {
   "codemirror_mode": {
    "name": "ipython",
    "version": 3
   },
   "file_extension": ".py",
   "mimetype": "text/x-python",
   "name": "python",
   "nbconvert_exporter": "python",
   "pygments_lexer": "ipython3",
   "version": "3.9.7"
  }
 },
 "nbformat": 4,
 "nbformat_minor": 2
}
