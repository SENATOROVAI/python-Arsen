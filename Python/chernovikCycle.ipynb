{
 "cells": [
  {
   "cell_type": "markdown",
   "metadata": {},
   "source": [
    "# основные методы 1)удалить 2)добавить 3)изменить 4)обновить \n",
    "# 4 базовые концепции програмирования. "
   ]
  },
  {
   "cell_type": "code",
   "execution_count": 3,
   "metadata": {},
   "outputs": [
    {
     "name": "stdout",
     "output_type": "stream",
     "text": [
      "[5]\n",
      "[5, 9]\n",
      "[5, 9, 11]\n",
      "[5, 9, 11, 25]\n",
      "[5, 9, 11, 25, 77]\n"
     ]
    }
   ],
   "source": [
    "# делаю циклы\n",
    "\n",
    "my_list = [4, 8, 10, 24, 76]  # это список\n",
    "my_list_2 = []  # это потом выйдет в принт\n",
    "for (i) in (\n",
    "        my_list\n",
    "):  # вот начало цикла, короче цикл for проходит по всему списку и ему присваивает ему переменную i. все что ниже он херачит с каждой данной в списке\n",
    "    new_element = i + 1  # создание новой переменной\n",
    "    my_list_2.append(\n",
    "        new_element\n",
    "        # а вот тут не понятно, че за метод append (вроде бы херня типа \"добавить к другому списку\")\n",
    "    )\n",
    "    print(my_list_2)"
   ]
  },
  {
   "cell_type": "code",
   "execution_count": 5,
   "metadata": {},
   "outputs": [
    {
     "name": "stdout",
     "output_type": "stream",
     "text": [
      "[3]\n",
      "[3, 7]\n",
      "[3, 7, 9]\n",
      "[3, 7, 9, 25]\n",
      "[3, 7, 9, 25, 77]\n"
     ]
    }
   ],
   "source": [
    "my_list = [4, 8, 10, 24, 76]\n",
    "my_list_2 = []\n",
    "for i in my_list:\n",
    "    if i > 10:\n",
    "        my_list_2.append(i + 1)\n",
    "    else:\n",
    "        my_list_2.append(i - 1)\n",
    "    print(my_list_2)"
   ]
  },
  {
   "cell_type": "code",
   "execution_count": 14,
   "metadata": {},
   "outputs": [
    {
     "name": "stdout",
     "output_type": "stream",
     "text": [
      "не выполенно ни одно условие\n",
      "не выполенно ни одно условие\n",
      "не выполенно ни одно условие\n",
      "i find E!\n",
      "не выполенно ни одно условие\n"
     ]
    }
   ],
   "source": [
    "my_name = \"Arsen\"\n",
    "for s in my_name:\n",
    "    if s == \"e\":\n",
    "        print(\"i find E!\")\n",
    "    elif s == \"m\":\n",
    "        print(\"test\")\n",
    "\n",
    "    else:\n",
    "        print(\"не выполенно ни одно условие\")\n",
    "# else (нет условия) print('netu tut m')\n",
    "\n",
    "# else s == 'm': # else (нет условия)\n",
    "#     print('netu tut m')"
   ]
  },
  {
   "cell_type": "code",
   "execution_count": 15,
   "metadata": {},
   "outputs": [
    {
     "name": "stdout",
     "output_type": "stream",
     "text": [
      "1\n",
      "2\n",
      "3\n",
      "4\n",
      "2\n",
      "1\n",
      "5\n",
      "5\n",
      "6\n",
      "5\n",
      "6\n",
      "7\n",
      "6\n",
      "6\n",
      "5\n",
      "7\n",
      "6\n",
      "5\n",
      "7\n",
      "5\n",
      "6\n"
     ]
    }
   ],
   "source": [
    "megachislo: int = 123421556567665765756\n",
    "for i in str(megachislo):\n",
    "    print(int(i))"
   ]
  }
 ],
 "metadata": {
  "kernelspec": {
   "display_name": "base",
   "language": "python",
   "name": "python3"
  },
  "language_info": {
   "codemirror_mode": {
    "name": "ipython",
    "version": 3
   },
   "file_extension": ".py",
   "mimetype": "text/x-python",
   "name": "python",
   "nbconvert_exporter": "python",
   "pygments_lexer": "ipython3",
   "version": "3.11.5"
  }
 },
 "nbformat": 4,
 "nbformat_minor": 2
}
