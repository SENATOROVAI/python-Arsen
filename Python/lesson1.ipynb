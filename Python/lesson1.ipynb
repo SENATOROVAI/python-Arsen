{
 "cells": [
  {
   "cell_type": "code",
   "execution_count": null,
   "metadata": {},
   "outputs": [],
   "source": [
    "# linter - это инструмент анализа и поиска ошибок.\n",
    "# flake8 - это linter\n",
    "# Black(alt+shift+f) - это инстурмент автоформатирования согласно PEP8\n",
    "# pip - это пакетный менеджер (package manager)"
   ]
  },
  {
   "cell_type": "markdown",
   "metadata": {},
   "source": [
    "fork - это клонирование чужого репозитория для дальнейшего pull request (для своей работы)\n",
    "pull request - это передача изменений из форкнутого репозитория в оригинальный репозиторий. (с комментами там, мб ему код написал и тд)"
   ]
  },
  {
   "cell_type": "code",
   "execution_count": 11,
   "metadata": {},
   "outputs": [],
   "source": [
    "!python -m venv venv # Создание виртуального окружения"
   ]
  },
  {
   "cell_type": "markdown",
   "metadata": {},
   "source": [
    "! - ввод команд в тенд в терминал\n",
    "% - выбор синтаксиса"
   ]
  },
  {
   "cell_type": "code",
   "execution_count": 3,
   "metadata": {},
   "outputs": [],
   "source": [
    "!pip freeze # показывает список модулей"
   ]
  }
 ],
 "metadata": {
  "kernelspec": {
   "display_name": "Python 3",
   "language": "python",
   "name": "python3"
  },
  "language_info": {
   "codemirror_mode": {
    "name": "ipython",
    "version": 3
   },
   "file_extension": ".py",
   "mimetype": "text/x-python",
   "name": "python",
   "nbconvert_exporter": "python",
   "pygments_lexer": "ipython3",
   "version": "3.9.7"
  }
 },
 "nbformat": 4,
 "nbformat_minor": 2
}
