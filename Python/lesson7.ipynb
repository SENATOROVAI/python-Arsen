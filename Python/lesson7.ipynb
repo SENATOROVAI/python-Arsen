{
 "cells": [
  {
   "cell_type": "code",
   "execution_count": 46,
   "metadata": {},
   "outputs": [
    {
     "ename": "TypeError",
     "evalue": "familiya() takes 1 positional argument but 6 positional arguments (and 2 keyword-only arguments) were given",
     "output_type": "error",
     "traceback": [
      "\u001b[1;31m---------------------------------------------------------------------------\u001b[0m",
      "\u001b[1;31mTypeError\u001b[0m                                 Traceback (most recent call last)",
      "Cell \u001b[1;32mIn[46], line 16\u001b[0m\n\u001b[0;32m     11\u001b[0m name \u001b[38;5;241m=\u001b[39m \u001b[38;5;124m\"\u001b[39m\u001b[38;5;124marsen\u001b[39m\u001b[38;5;124m\"\u001b[39m\n\u001b[0;32m     13\u001b[0m \u001b[38;5;66;03m# familiya(name,1)  # position args\u001b[39;00m\n\u001b[0;32m     14\u001b[0m \u001b[38;5;66;03m# familiya(1, param1=name) # key args\u001b[39;00m\n\u001b[1;32m---> 16\u001b[0m familiya(\u001b[38;5;241m1\u001b[39m,\u001b[38;5;241m2\u001b[39m,\u001b[38;5;241m23\u001b[39m,\u001b[38;5;241m3\u001b[39m,\u001b[38;5;241m3\u001b[39m,\u001b[38;5;241m3\u001b[39m, test1\u001b[38;5;241m=\u001b[39m\u001b[38;5;124m\"\u001b[39m\u001b[38;5;124m1\u001b[39m\u001b[38;5;124m\"\u001b[39m, param1\u001b[38;5;241m=\u001b[39mname)\n",
      "\u001b[1;31mTypeError\u001b[0m: familiya() takes 1 positional argument but 6 positional arguments (and 2 keyword-only arguments) were given"
     ]
    }
   ],
   "source": [
    "# Написать функцию которая принимает бесконечное колво параметров\n",
    "\n",
    "\n",
    "# def familiya(*values, test1, param1, test=\"test\") -> bool: # params / All things after star this is keywords. if use star plus name of parameters, this is unlimited number of args\n",
    "def familiya(\n",
    "    position,\n",
    "    *,\n",
    "    test1,\n",
    "    param1,\n",
    "    test=\"test\"\n",
    ") -> (\n",
    "        bool\n",
    "):  # params / All things after star this is keywords. if use star plus name of parameters, this is unlimited number of args\n",
    "    \"\"\"\n",
    "    Data types annotation\n",
    "\n",
    "    for EX:\n",
    "\n",
    "    def test(number: int)->: int - в аннотации типов, int - это тип данных\n",
    "\n",
    "    \"\"\"\n",
    "    # return param1 == \"arsen\"\n",
    "    print(f\"{position}, test1 {test1} param1 {param1}\")\n",
    "\n",
    "\n",
    "name = \"arsen\"\n",
    "\n",
    "# familiya(name,1)  # position args\n",
    "# familiya(1, param1=name) # key args\n",
    "\n",
    "familiya(1, 2, 23, 3, 3, 3, test1=\"1\", param1=name)"
   ]
  },
  {
   "cell_type": "code",
   "execution_count": 40,
   "metadata": {},
   "outputs": [
    {
     "name": "stdout",
     "output_type": "stream",
     "text": [
      "1 2 3 13 123 123 123 123 123 312\n"
     ]
    }
   ],
   "source": [
    "print(1, 2, 3, 13, 123, 123, 123, 123, 123, 312)  # position args"
   ]
  },
  {
   "cell_type": "code",
   "execution_count": 47,
   "metadata": {},
   "outputs": [
    {
     "name": "stdout",
     "output_type": "stream",
     "text": [
      "1 2 3 2 32\n",
      "112312 1312312\n",
      "[11312] [123123123]\n",
      "0 \n"
     ]
    }
   ],
   "source": [
    "print(1, 2, 3, 2, 32)\n",
    "print(\"112312\", \"1312312\")\n",
    "print([11312], [123123123])\n",
    "print(int(), '')"
   ]
  },
  {
   "cell_type": "code",
   "execution_count": 1,
   "metadata": {},
   "outputs": [],
   "source": [
    "number: int = \"lalala\""
   ]
  },
  {
   "cell_type": "code",
   "execution_count": 1,
   "metadata": {},
   "outputs": [],
   "source": [
    "def chislo_plus_one(x: int) -> int:\n",
    "    return x + 1"
   ]
  },
  {
   "cell_type": "code",
   "execution_count": 3,
   "metadata": {},
   "outputs": [
    {
     "data": {
      "text/plain": [
       "'0x1ec49c0dee0'"
      ]
     },
     "execution_count": 3,
     "metadata": {},
     "output_type": "execute_result"
    },
    {
     "ename": "",
     "evalue": "",
     "output_type": "error",
     "traceback": [
      "\u001b[1;31mThe Kernel crashed while executing code in the current cell or a previous cell. \n",
      "\u001b[1;31mPlease review the code in the cell(s) to identify a possible cause of the failure. \n",
      "\u001b[1;31mClick <a href='https://aka.ms/vscodeJupyterKernelCrash'>here</a> for more info. \n",
      "\u001b[1;31mView Jupyter <a href='command:jupyter.viewOutput'>log</a> for further details."
     ]
    }
   ],
   "source": [
    "bin(id(chislo_plus_one))\n",
    "hex(\n",
    "    id(chislo_plus_one)\n",
    "    # this is identification object on RAM, адрес памяти в объекте в 16ти формате.\n",
    ")"
   ]
  },
  {
   "cell_type": "code",
   "execution_count": null,
   "metadata": {},
   "outputs": [],
   "source": [
    "# Haskell чекнуть."
   ]
  }
 ],
 "metadata": {
  "kernelspec": {
   "display_name": "base",
   "language": "python",
   "name": "python3"
  },
  "language_info": {
   "codemirror_mode": {
    "name": "ipython",
    "version": 3
   },
   "file_extension": ".py",
   "mimetype": "text/x-python",
   "name": "python",
   "nbconvert_exporter": "python",
   "pygments_lexer": "ipython3",
   "version": "3.11.5"
  }
 },
 "nbformat": 4,
 "nbformat_minor": 2
}
