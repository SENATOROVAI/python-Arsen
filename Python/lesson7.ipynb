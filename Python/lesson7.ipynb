{
 "cells": [
  {
   "cell_type": "code",
   "execution_count": 46,
   "metadata": {},
   "outputs": [
    {
     "ename": "TypeError",
     "evalue": "familiya() takes 1 positional argument but 6 positional arguments (and 2 keyword-only arguments) were given",
     "output_type": "error",
     "traceback": [
      "\u001b[1;31m---------------------------------------------------------------------------\u001b[0m",
      "\u001b[1;31mTypeError\u001b[0m                                 Traceback (most recent call last)",
      "Cell \u001b[1;32mIn[46], line 16\u001b[0m\n\u001b[0;32m     11\u001b[0m name \u001b[38;5;241m=\u001b[39m \u001b[38;5;124m\"\u001b[39m\u001b[38;5;124marsen\u001b[39m\u001b[38;5;124m\"\u001b[39m\n\u001b[0;32m     13\u001b[0m \u001b[38;5;66;03m# familiya(name,1)  # position args\u001b[39;00m\n\u001b[0;32m     14\u001b[0m \u001b[38;5;66;03m# familiya(1, param1=name) # key args\u001b[39;00m\n\u001b[1;32m---> 16\u001b[0m familiya(\u001b[38;5;241m1\u001b[39m,\u001b[38;5;241m2\u001b[39m,\u001b[38;5;241m23\u001b[39m,\u001b[38;5;241m3\u001b[39m,\u001b[38;5;241m3\u001b[39m,\u001b[38;5;241m3\u001b[39m, test1\u001b[38;5;241m=\u001b[39m\u001b[38;5;124m\"\u001b[39m\u001b[38;5;124m1\u001b[39m\u001b[38;5;124m\"\u001b[39m, param1\u001b[38;5;241m=\u001b[39mname)\n",
      "\u001b[1;31mTypeError\u001b[0m: familiya() takes 1 positional argument but 6 positional arguments (and 2 keyword-only arguments) were given"
     ]
    }
   ],
   "source": [
    "# Написать функцию которая принимает бесконечное колво параметров \n",
    "\n",
    "# def familiya(*values, test1, param1, test=\"test\") -> bool: # params / All things after star this is keywords. if use star plus name of parameters, this is unlimited number of args \n",
    "def familiya(position, *,  test1, param1, test=\"test\") -> bool: # params / All things after star this is keywords. if use star plus name of parameters, this is unlimited number of args \n",
    "    \"\"\"\n",
    "    Data types annotation\n",
    "\n",
    "    for EX:\n",
    "\n",
    "    def test(number: int)->: int - в аннотации типов, int - это тип данных\n",
    "\n",
    "    \"\"\"\n",
    "    # return param1 == \"arsen\"\n",
    "    print(f'{position}, test1 {test1} param1 {param1}')\n",
    "\n",
    "name = \"arsen\"\n",
    "\n",
    "# familiya(name,1)  # position args\n",
    "# familiya(1, param1=name) # key args\n",
    "\n",
    "familiya(1,2,23,3,3,3, test1=\"1\", param1=name)\n"
   ]
  },
  {
   "cell_type": "code",
   "execution_count": 40,
   "metadata": {},
   "outputs": [
    {
     "name": "stdout",
     "output_type": "stream",
     "text": [
      "1 2 3 13 123 123 123 123 123 312\n"
     ]
    }
   ],
   "source": [
    "print(1, 2, 3,13,123,123,123,123,123,312) # position args \n"
   ]
  },
  {
   "cell_type": "code",
   "execution_count": 47,
   "metadata": {},
   "outputs": [
    {
     "name": "stdout",
     "output_type": "stream",
     "text": [
      "1 2 3 2 32\n",
      "112312 1312312\n",
      "[11312] [123123123]\n",
      "0 \n"
     ]
    }
   ],
   "source": [
    "print(1,2,3,2,32)\n",
    "print(\"112312\",\"1312312\")\n",
    "print([11312],[123123123])\n",
    "print(int(), str())"
   ]
  },
  {
   "cell_type": "code",
   "execution_count": 1,
   "metadata": {},
   "outputs": [],
   "source": [
    "number: int = \"lalala\""
   ]
  }
 ],
 "metadata": {
  "kernelspec": {
   "display_name": "base",
   "language": "python",
   "name": "python3"
  },
  "language_info": {
   "codemirror_mode": {
    "name": "ipython",
    "version": 3
   },
   "file_extension": ".py",
   "mimetype": "text/x-python",
   "name": "python",
   "nbconvert_exporter": "python",
   "pygments_lexer": "ipython3",
   "version": "3.11.5"
  }
 },
 "nbformat": 4,
 "nbformat_minor": 2
}
