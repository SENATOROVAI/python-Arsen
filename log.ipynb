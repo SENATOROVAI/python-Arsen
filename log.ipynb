{
 "cells": [
  {
   "cell_type": "markdown",
   "metadata": {},
   "source": [
    "11.12.2023\n",
    "оформили профиль в гитхабе\n",
    "Повторили pull request \n",
    "\n",
    "\n",
    "Создали виртуальное окружение\n",
    "Добавили парное программирование (live share)\n",
    "Установили anaconda, поработали с терминалом с jupyter \n"
   ]
  },
  {
   "cell_type": "code",
   "execution_count": null,
   "metadata": {
    "vscode": {
     "languageId": "plaintext"
    }
   },
   "outputs": [],
   "source": [
    "18.12.2023 \n",
    "\n",
    "Алгоритм Пулл Реквест \n",
    "1)  dsadasd"
   ]
  },
  {
   "cell_type": "code",
   "execution_count": null,
   "metadata": {
    "vscode": {
     "languageId": "plaintext"
    }
   },
   "outputs": [],
   "source": [
    "06.01.2024\n",
    "\n",
    "1. Отправил рандомному челику пулл реквест на игру Змейку\n",
    "2. Прогнали его код через black, mypy (pep8)\n",
    "3. Так же отметил в issues данную \"проблему\"\n",
    "4. Ща попробую прогнать через пипку свой автотест, посмотреть че будет\n",
    "5. Надо будет еще чей нибудь код залезть и прогнать тож\n",
    "6. Надо будет реквайрементс установить через путь какой то, относительный или абсолютный путь"
   ]
  }
 ],
 "metadata": {
  "language_info": {
   "name": "python"
  },
  "orig_nbformat": 4
 },
 "nbformat": 4,
 "nbformat_minor": 2
}
