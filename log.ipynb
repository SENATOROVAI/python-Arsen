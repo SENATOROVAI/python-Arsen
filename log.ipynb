{
 "cells": [
  {
   "cell_type": "markdown",
   "metadata": {},
   "source": [
    "11.12.2023\n",
    "оформили профиль в гитхабе\n",
    "Повторили pull request \n",
    "\n",
    "\n",
    "Создали виртуальное окружение\n",
    "Добавили парное программирование (live share)\n",
    "Установили anaconda, поработали с терминалом с jupyter \n"
   ]
  },
  {
   "cell_type": "code",
   "execution_count": null,
   "metadata": {
    "vscode": {
     "languageId": "plaintext"
    }
   },
   "outputs": [],
   "source": [
    "18.12.2023 \n",
    "\n",
    "Алгоритм Пулл Реквест \n",
    "1)  dsadasd"
   ]
  }
 ],
 "metadata": {
  "language_info": {
   "name": "python"
  },
  "orig_nbformat": 4
 },
 "nbformat": 4,
 "nbformat_minor": 2
}
