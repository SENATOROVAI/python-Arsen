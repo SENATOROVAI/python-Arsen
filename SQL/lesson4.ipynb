{
 "cells": [
  {
   "cell_type": "code",
   "execution_count": 47,
   "metadata": {},
   "outputs": [
    {
     "ename": "SyntaxError",
     "evalue": "invalid syntax (4282141376.py, line 3)",
     "output_type": "error",
     "traceback": [
      "\u001b[1;36m  Cell \u001b[1;32mIn[47], line 3\u001b[1;36m\u001b[0m\n\u001b[1;33m    conn =\u001b[0m\n\u001b[1;37m           ^\u001b[0m\n\u001b[1;31mSyntaxError\u001b[0m\u001b[1;31m:\u001b[0m invalid syntax\n"
     ]
    }
   ],
   "source": [
    "import mysql.connector\n",
    "\n",
    "conn = \n",
    "{'host', \n",
    " 'user', \n",
    " 'password', \n",
    " 'datebase'\n",
    "} \n",
    "\n",
    "# conn = mysql.connector.connect(host = 'sql104.infinityfree.com' , \n",
    "#  'user', \n",
    "#  'password', \n",
    "#  'datebase') "
   ]
  },
  {
   "cell_type": "code",
   "execution_count": null,
   "metadata": {},
   "outputs": [
    {
     "data": {
      "text/plain": [
       "['__abstractmethods__',\n",
       " '__annotations__',\n",
       " '__class__',\n",
       " '__delattr__',\n",
       " '__dict__',\n",
       " '__dir__',\n",
       " '__doc__',\n",
       " '__enter__',\n",
       " '__eq__',\n",
       " '__exit__',\n",
       " '__format__',\n",
       " '__ge__',\n",
       " '__getattribute__',\n",
       " '__gt__',\n",
       " '__hash__',\n",
       " '__init__',\n",
       " '__init_subclass__',\n",
       " '__le__',\n",
       " '__lt__',\n",
       " '__module__',\n",
       " '__ne__',\n",
       " '__new__',\n",
       " '__reduce__',\n",
       " '__reduce_ex__',\n",
       " '__repr__',\n",
       " '__setattr__',\n",
       " '__sizeof__',\n",
       " '__slots__',\n",
       " '__str__',\n",
       " '__subclasshook__',\n",
       " '__weakref__',\n",
       " '_abc_impl',\n",
       " '_add_default_conn_attrs',\n",
       " '_allow_local_infile',\n",
       " '_allow_local_infile_in_path',\n",
       " '_auth_plugin',\n",
       " '_auth_plugin_class',\n",
       " '_autocommit',\n",
       " '_buffered',\n",
       " '_character_set',\n",
       " '_charset_id',\n",
       " '_check_server_version',\n",
       " '_client_flags',\n",
       " '_client_host',\n",
       " '_client_port',\n",
       " '_cmysql',\n",
       " '_columns',\n",
       " '_compress',\n",
       " '_conn_attrs',\n",
       " '_connection_timeout',\n",
       " '_consume_results',\n",
       " '_converter_class',\n",
       " '_converter_str_fallback',\n",
       " '_database',\n",
       " '_do_handshake',\n",
       " '_execute_query',\n",
       " '_fido_callback',\n",
       " '_force_ipv6',\n",
       " '_get_warnings',\n",
       " '_handshake',\n",
       " '_have_next_result',\n",
       " '_host',\n",
       " '_in_transaction',\n",
       " '_init_command',\n",
       " '_krb_service_principal',\n",
       " '_oci_config_file',\n",
       " '_oci_config_profile',\n",
       " '_open_connection',\n",
       " '_password',\n",
       " '_password1',\n",
       " '_password2',\n",
       " '_password3',\n",
       " '_plugin_dir',\n",
       " '_pool_config_version',\n",
       " '_port',\n",
       " '_post_connection',\n",
       " '_prepared_statements',\n",
       " '_query_attrs',\n",
       " '_raise_on_warnings',\n",
       " '_raw',\n",
       " '_server_status',\n",
       " '_server_version',\n",
       " '_span',\n",
       " '_sql_mode',\n",
       " '_ssl',\n",
       " '_ssl_active',\n",
       " '_ssl_disabled',\n",
       " '_time_zone',\n",
       " '_tracer',\n",
       " '_unix_socket',\n",
       " '_unread_result',\n",
       " '_use_unicode',\n",
       " '_user',\n",
       " '_validate_callable',\n",
       " '_validate_tls_ciphersuites',\n",
       " '_validate_tls_versions',\n",
       " '_webauthn_callback',\n",
       " 'autocommit',\n",
       " 'can_consume_results',\n",
       " 'charset',\n",
       " 'close',\n",
       " 'cmd_change_user',\n",
       " 'cmd_debug',\n",
       " 'cmd_init_db',\n",
       " 'cmd_ping',\n",
       " 'cmd_process_info',\n",
       " 'cmd_process_kill',\n",
       " 'cmd_query',\n",
       " 'cmd_query_iter',\n",
       " 'cmd_quit',\n",
       " 'cmd_refresh',\n",
       " 'cmd_reset_connection',\n",
       " 'cmd_shutdown',\n",
       " 'cmd_statistics',\n",
       " 'cmd_stmt_close',\n",
       " 'cmd_stmt_execute',\n",
       " 'cmd_stmt_prepare',\n",
       " 'cmd_stmt_reset',\n",
       " 'cmd_stmt_send_long_data',\n",
       " 'collation',\n",
       " 'commit',\n",
       " 'config',\n",
       " 'connect',\n",
       " 'connection_id',\n",
       " 'consume_results',\n",
       " 'converter',\n",
       " 'cursor',\n",
       " 'database',\n",
       " 'disconnect',\n",
       " 'fetch_eof_columns',\n",
       " 'fetch_eof_status',\n",
       " 'free_result',\n",
       " 'get_row',\n",
       " 'get_rows',\n",
       " 'get_self',\n",
       " 'get_server_info',\n",
       " 'get_server_version',\n",
       " 'get_warnings',\n",
       " 'handle_unread_result',\n",
       " 'have_next_result',\n",
       " 'in_transaction',\n",
       " 'info_query',\n",
       " 'is_closed',\n",
       " 'is_connected',\n",
       " 'is_secure',\n",
       " 'isset_client_flag',\n",
       " 'more_results',\n",
       " 'next_result',\n",
       " 'num_rows',\n",
       " 'otel_context_propagation',\n",
       " 'ping',\n",
       " 'pool_config_version',\n",
       " 'prepare_for_mysql',\n",
       " 'python_charset',\n",
       " 'query_attrs',\n",
       " 'query_attrs_append',\n",
       " 'query_attrs_clear',\n",
       " 'query_attrs_remove',\n",
       " 'raise_on_warnings',\n",
       " 'reconnect',\n",
       " 'reset_session',\n",
       " 'result_set_available',\n",
       " 'rollback',\n",
       " 'server_host',\n",
       " 'server_port',\n",
       " 'set_allow_local_infile_in_path',\n",
       " 'set_character_set_name',\n",
       " 'set_charset_collation',\n",
       " 'set_client_flags',\n",
       " 'set_converter_class',\n",
       " 'set_login',\n",
       " 'set_unicode',\n",
       " 'shutdown',\n",
       " 'sql_mode',\n",
       " 'start_transaction',\n",
       " 'time_zone',\n",
       " 'unix_socket',\n",
       " 'unread_result',\n",
       " 'user',\n",
       " 'warning_count']"
      ]
     },
     "execution_count": 2,
     "metadata": {},
     "output_type": "execute_result"
    }
   ],
   "source": [
    "conn = mysql.connector.connect()\n",
    "dir(conn)  # dir атрибуты и методы объекта, класса.\n",
    "\n",
    "# две нижние подчеркивания в начале и в конце это Dunder и потом ставится имя.\n",
    "# Dunder or magic methods in Python - это метод (выглядит иначе __ __) они уже определены до нас.\n",
    "# Магия в том что она срабатывает автоматически при наступлении определенного события."
   ]
  },
  {
   "cell_type": "code",
   "execution_count": 50,
   "metadata": {},
   "outputs": [
    {
     "data": {
      "text/plain": [
       "['__class__',\n",
       " '__delattr__',\n",
       " '__dict__',\n",
       " '__dir__',\n",
       " '__doc__',\n",
       " '__eq__',\n",
       " '__format__',\n",
       " '__ge__',\n",
       " '__getattribute__',\n",
       " '__gt__',\n",
       " '__hash__',\n",
       " '__init__',\n",
       " '__init_subclass__',\n",
       " '__le__',\n",
       " '__lt__',\n",
       " '__module__',\n",
       " '__ne__',\n",
       " '__new__',\n",
       " '__reduce__',\n",
       " '__reduce_ex__',\n",
       " '__repr__',\n",
       " '__setattr__',\n",
       " '__sizeof__',\n",
       " '__str__',\n",
       " '__subclasshook__',\n",
       " '__weakref__',\n",
       " 'engin',\n",
       " 'get_value',\n",
       " 'set_attr']"
      ]
     },
     "execution_count": 50,
     "metadata": {},
     "output_type": "execute_result"
    }
   ],
   "source": [
    "class car:  # Все классы наследуются от класса object НЕЯВНО. двоеточие это открытие тела объекта и тд. До двоеточия это всегда название а после уже тело или объекта\n",
    "    \"\"\"\n",
    "    pass и троеточие это оставить ТЕЛО пустым или скипнуть это тело.\n",
    "\n",
    "    МЕТОД И АТРИБУТЫ В КЛАССЕ ВЫЗЫВАЮТСЯ ЧЕРЕЗ ТОЧКУ. ДЛЯ ЭТОГО НАДО НАПИСАТЬ ИМЯ КЛАССА + ТО ЧТО НАДО ВЫЗВАТЬ\n",
    "    \"\"\"\n",
    "\n",
    "    engin = \"1jz\"  # атрибут в классе это обычная переменная\n",
    "\n",
    "    # метод в классе представлен это тупо функция\n",
    "    def get_value(self) -> str:  # вместо self вставялеется имя объект\n",
    "        return car.engin\n",
    "\n",
    "    def set_attr(self, value) -> None:\n",
    "        self.motor = value\n",
    "\n",
    "\n",
    "# psevdonum = car.get_value\n",
    "# psevdonum()\n",
    "\n",
    "# car.get_value() # call methods\n",
    "car.engin  # call atribute, а атрибут это тупо переменная НЕ СТАВЬ КУРУГЛЫЕ СКОБКИ\n",
    "\n",
    "obj = car()  # присвоили объект\n",
    "obj2 = car()\n",
    "# dir(obj)\n",
    "obj.get_value(\n",
    ")  # интерпретатор первым параметром НЕ ЯВНО прописывает имя объекта\n",
    "#\n",
    "dir(obj)"
   ]
  },
  {
   "cell_type": "code",
   "execution_count": 52,
   "metadata": {},
   "outputs": [
    {
     "data": {
      "text/plain": [
       "'v8'"
      ]
     },
     "execution_count": 52,
     "metadata": {},
     "output_type": "execute_result"
    }
   ],
   "source": [
    "obj2.set_attr(\"v8\")\n",
    "obj2.motor"
   ]
  },
  {
   "cell_type": "code",
   "execution_count": null,
   "metadata": {},
   "outputs": [
    {
     "name": "stdout",
     "output_type": "stream",
     "text": [
      "None\n"
     ]
    },
    {
     "data": {
      "text/plain": [
       "'V12'"
      ]
     },
     "execution_count": 45,
     "metadata": {},
     "output_type": "execute_result"
    }
   ],
   "source": [
    "print(obj.set_attr(\n",
    "    \"V12\"))  # если нет return , автоматически прописывает return none.\n",
    "dir(obj)\n",
    "obj.motor"
   ]
  },
  {
   "cell_type": "code",
   "execution_count": 53,
   "metadata": {},
   "outputs": [
    {
     "data": {
      "text/plain": [
       "tuple"
      ]
     },
     "execution_count": 53,
     "metadata": {},
     "output_type": "execute_result"
    }
   ],
   "source": [
    "list_ = []  # это синтаксический сахар создания объекта/экземпляра класса list\n",
    "list_ = list((1, 23, 4))  # создание объекта класса лист\n",
    "\n",
    "list_.append(5)\n",
    "list_\n",
    "# что  чтобы создать объекта класса нужно написать ИМЯ КЛАССА ПЛЮС КРУГЛЫЕ СКОБКИ\n",
    "\n",
    "tuple_ = ()  # синтчск сахар создания объекта класса кортеж\n",
    "type(tuple_)"
   ]
  },
  {
   "cell_type": "code",
   "execution_count": null,
   "metadata": {},
   "outputs": [
    {
     "data": {
      "text/plain": [
       "list"
      ]
     },
     "execution_count": 27,
     "metadata": {},
     "output_type": "execute_result"
    }
   ],
   "source": [
    "type(list_)  # type покажет ТИП данных или ИМЯ класса\n",
    "list"
   ]
  },
  {
   "cell_type": "code",
   "execution_count": null,
   "metadata": {},
   "outputs": [
    {
     "data": {
      "text/plain": [
       "['__class__',\n",
       " '__delattr__',\n",
       " '__dict__',\n",
       " '__dir__',\n",
       " '__doc__',\n",
       " '__eq__',\n",
       " '__format__',\n",
       " '__ge__',\n",
       " '__getattribute__',\n",
       " '__gt__',\n",
       " '__hash__',\n",
       " '__init__',\n",
       " '__init_subclass__',\n",
       " '__le__',\n",
       " '__lt__',\n",
       " '__module__',\n",
       " '__ne__',\n",
       " '__new__',\n",
       " '__reduce__',\n",
       " '__reduce_ex__',\n",
       " '__repr__',\n",
       " '__setattr__',\n",
       " '__sizeof__',\n",
       " '__str__',\n",
       " '__subclasshook__',\n",
       " '__weakref__']"
      ]
     },
     "execution_count": 29,
     "metadata": {},
     "output_type": "execute_result"
    }
   ],
   "source": [
    "class hahahha(object): # \n",
    "    # def __class__():\n",
    "    #     return x\n",
    "\n",
    "    # def __delattr__():\n",
    "    #     return x    \n",
    "\n",
    "joker =  hahahha()\n",
    "\n",
    "dir(joker)"
   ]
  }
 ],
 "metadata": {
  "kernelspec": {
   "display_name": "venv",
   "language": "python",
   "name": "python3"
  },
  "language_info": {
   "codemirror_mode": {
    "name": "ipython",
    "version": 3
   },
   "file_extension": ".py",
   "mimetype": "text/x-python",
   "name": "python",
   "nbconvert_exporter": "python",
   "pygments_lexer": "ipython3",
   "version": "3.9.7"
  }
 },
 "nbformat": 4,
 "nbformat_minor": 2
}
