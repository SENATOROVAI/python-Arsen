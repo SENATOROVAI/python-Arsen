{
 "cells": [
  {
   "cell_type": "code",
   "execution_count": null,
   "metadata": {},
   "outputs": [],
   "source": [
    "\"\"\"\n",
    "Нужна помощь в решении задачи в карпов курсе\n",
    "ссылка:https://lab.karpov.courses/learning/243/module/2453/lesson/23849/68531/319997/\n",
    "\n",
    "\n",
    "Задача: \n",
    "Даны список целых чисел a и число b. Удалите из a первое и последнее вхождение числа b.  \n",
    "Примеры:\n",
    "a = [1, 2, 2, 1, 3, 2, 3]\n",
    "b = 1 \n",
    "# -> a = [2, 2, 3, 2, 3]\n",
    "\n",
    "a = [1, 2, 2, 1, 3, 2, 3]\n",
    "b = 2 \n",
    "# -> a = [1, 2, 1, 3, 3]\n",
    "\n",
    "\"\"\""
   ]
  }
 ],
 "metadata": {
  "kernelspec": {
   "display_name": "base",
   "language": "python",
   "name": "python3"
  },
  "language_info": {
   "name": "python",
   "version": "3.11.5"
  }
 },
 "nbformat": 4,
 "nbformat_minor": 2
}
